{
 "cells": [
  {
   "cell_type": "markdown",
   "id": "25c8ab4a",
   "metadata": {},
   "source": [
    "# Introduction to regular expressions in python"
   ]
  },
  {
   "cell_type": "markdown",
   "id": "261c4bed",
   "metadata": {},
   "source": [
    "\n",
    "In Python, **RegEx (Regular Expressions)** is a powerful tool for **pattern matching and manipulation within strings**.\n",
    "\n",
    "Python's built-in **`re` module** provides core functions for working with RegEx, including:\n",
    "* `search()`: To find the first occurrence of a pattern.\n",
    "* `split()`: To split a string by a pattern.\n",
    "* `findall()`: To find all occurrences of a pattern.\n",
    "* `sub()`: To substitute (replace) matched patterns.\n",
    "\n",
    "To use these functionalities, you just need to `import re` at the beginning of your script.\n",
    "\n",
    "---"
   ]
  },
  {
   "cell_type": "markdown",
   "id": "25c81c97",
   "metadata": {},
   "source": [
    "Regular Expressions (RegEx) use special sequences to define patterns for matching and manipulating text strings.\n",
    "\n",
    "| Special Sequence | Meaning                                                 | Example                          |\n",
    "| :--------------- | :------------------------------------------------------ | :------------------------------- |\n",
    "| **`\\d`** | Matches any **digit** character (0-9).                  | `\"123\"` matches `\"\\d\\d\\d\"`       |\n",
    "| **`\\D`** | Matches any **non-digit** character.                    | `\"hello\"` matches `\"\\D\\D\\D\\D\\D\"` |\n",
    "| **`\\w`** | Matches any **word** character (a-z, A-Z, 0-9, `_`).    | `\"hello_world\"` matches `\"\\w\"*`  |\n",
    "| **`\\W`** | Matches any **non-word** character.                     | `\"@#$%\" `matches `\"\\W\\W\\W\\W\"`    |\n",
    "| **`\\s`** | Matches any **whitespace** character (space, tab, newline). | `\"hello world\"` matches `\"\\w+\\s\\w+\"` |\n",
    "| **`\\S`** | Matches any **non-whitespace** character.               | `\"hello_world\"` matches `\"\\S\"*`  |\n",
    "| **`\\b`** | Matches a **word boundary**.                            | `\"\\bcat\\b\"` matches \"cat\" in \"The **cat** sat.\" |\n",
    "| **`\\B`** | Matches a **non-word boundary**.                        | `\"\\Bcat\\B\"` matches \"cat\" in \"cate**go**ry\" |\n",
    "\n",
    "---"
   ]
  },
  {
   "cell_type": "code",
   "execution_count": 1,
   "id": "4c31c3cd",
   "metadata": {},
   "outputs": [
    {
     "name": "stdout",
     "output_type": "stream",
     "text": [
      "Found email addresses:\n",
      "- support@example.com\n",
      "- info@domain.org\n",
      "- old.address@sub.example.net\n"
     ]
    }
   ],
   "source": [
    "import re\n",
    "\n",
    "# The text where we want to find email addresses\n",
    "sample_text = \"Contact us at support@example.com or info@domain.org. Our old email was old.address@sub.example.net.\"\n",
    "\n",
    "# RegEx pattern for a simple email address\n",
    "# Explanation:\n",
    "# r\"...\"       - Raw string to avoid issues with backslashes\n",
    "# \\b          - Word boundary (start of email)\n",
    "# [\\w\\.-]+    - Matches one or more word characters, periods, or hyphens (username part)\n",
    "# @           - Matches the '@' symbol literally\n",
    "# [\\w\\.-]+    - Matches one or more word characters, periods, or hyphens (domain name part)\n",
    "# \\.          - Matches the '.' symbol literally (needs escaping as '.' is a special regex char)\n",
    "# [a-zA-Z]{2,3} - Matches 2 or 3 letters (for .com, .org, .net, etc.)\n",
    "# \\b          - Word boundary (end of email)\n",
    "email_pattern = r\"\\b[\\w\\.-]+@[\\w\\.-]+\\.[a-zA-Z]{2,3}\\b\"\n",
    "\n",
    "# Use re.findall() to find all matches of the pattern in the text\n",
    "found_emails = re.findall(email_pattern, sample_text)\n",
    "\n",
    "# Check if any emails were found and print them\n",
    "if found_emails:\n",
    "    print(\"Found email addresses:\")\n",
    "    for email in found_emails:\n",
    "        print(f\"- {email}\")\n",
    "else:\n",
    "    print(\"No email addresses found in the text.\")"
   ]
  }
 ],
 "metadata": {
  "kernelspec": {
   "display_name": ".venv",
   "language": "python",
   "name": "python3"
  },
  "language_info": {
   "codemirror_mode": {
    "name": "ipython",
    "version": 3
   },
   "file_extension": ".py",
   "mimetype": "text/x-python",
   "name": "python",
   "nbconvert_exporter": "python",
   "pygments_lexer": "ipython3",
   "version": "3.13.3"
  }
 },
 "nbformat": 4,
 "nbformat_minor": 5
}
