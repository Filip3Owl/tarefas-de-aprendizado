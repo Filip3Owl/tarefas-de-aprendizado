{
 "cells": [
  {
   "cell_type": "markdown",
   "id": "25c8ab4a",
   "metadata": {},
   "source": [
    "# Introduction to regular expressions in python"
   ]
  },
  {
   "cell_type": "markdown",
   "id": "261c4bed",
   "metadata": {},
   "source": [
    "\n",
    "In Python, **RegEx (Regular Expressions)** is a powerful tool for **pattern matching and manipulation within strings**.\n",
    "\n",
    "Python's built-in **`re` module** provides core functions for working with RegEx, including:\n",
    "* `search()`: To find the first occurrence of a pattern.\n",
    "* `split()`: To split a string by a pattern.\n",
    "* `findall()`: To find all occurrences of a pattern.\n",
    "* `sub()`: To substitute (replace) matched patterns.\n",
    "\n",
    "To use these functionalities, you just need to `import re` at the beginning of your script.\n",
    "\n",
    "---"
   ]
  },
  {
   "cell_type": "markdown",
   "id": "25c81c97",
   "metadata": {},
   "source": [
    "Regular Expressions (RegEx) use special sequences to define patterns for matching and manipulating text strings.\n",
    "\n",
    "| Special Sequence | Meaning                                                 | Example                          |\n",
    "| :--------------- | :------------------------------------------------------ | :------------------------------- |\n",
    "| **`\\d`** | Matches any **digit** character (0-9).                  | `\"123\"` matches `\"\\d\\d\\d\"`       |\n",
    "| **`\\D`** | Matches any **non-digit** character.                    | `\"hello\"` matches `\"\\D\\D\\D\\D\\D\"` |\n",
    "| **`\\w`** | Matches any **word** character (a-z, A-Z, 0-9, `_`).    | `\"hello_world\"` matches `\"\\w\"*`  |\n",
    "| **`\\W`** | Matches any **non-word** character.                     | `\"@#$%\" `matches `\"\\W\\W\\W\\W\"`    |\n",
    "| **`\\s`** | Matches any **whitespace** character (space, tab, newline). | `\"hello world\"` matches `\"\\w+\\s\\w+\"` |\n",
    "| **`\\S`** | Matches any **non-whitespace** character.               | `\"hello_world\"` matches `\"\\S\"*`  |\n",
    "| **`\\b`** | Matches a **word boundary**.                            | `\"\\bcat\\b\"` matches \"cat\" in \"The **cat** sat.\" |\n",
    "| **`\\B`** | Matches a **non-word boundary**.                        | `\"\\Bcat\\B\"` matches \"cat\" in \"cate**go**ry\" |\n",
    "\n",
    "---"
   ]
  }
 ],
 "metadata": {
  "kernelspec": {
   "display_name": ".venv",
   "language": "python",
   "name": "python3"
  },
  "language_info": {
   "name": "python",
   "version": "3.13.3"
  }
 },
 "nbformat": 4,
 "nbformat_minor": 5
}
