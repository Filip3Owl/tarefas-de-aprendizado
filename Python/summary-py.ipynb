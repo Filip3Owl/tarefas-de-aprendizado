{
 "cells": [
  {
   "cell_type": "markdown",
   "id": "3d4a9117",
   "metadata": {},
   "source": [
    "---\n",
    "\n",
    "### Module 1 Summary: Python Basics\n",
    "\n",
    "You've successfully completed this module and now have a solid grasp of Python's foundational elements! Here's what you've learned:\n",
    "\n",
    "Python handles various **data types**, including:\n",
    "* **Integers**: Whole numbers (positive or negative).\n",
    "* **Floats**: Numbers with decimal points (whole or fractional).\n",
    "* **Strings**: Sequences of characters.\n",
    "* **Booleans**: `True` or `False` values.\n",
    "\n",
    "You can **convert between data types** (typecasting):\n",
    "* Integers can become floats, and vice-versa.\n",
    "* Integers and floats can be converted to strings.\n",
    "* Numbers can become Booleans (0 is `False`, any non-zero number is `True`).\n",
    "\n",
    "**Expressions** combine values and operations to produce a single result. Python performs mathematical operations (like addition, subtraction, multiplication) and follows the **order of operations (BODMAS)**. Remember `//` for **integer division**, which discards the fractional part.\n",
    "\n",
    "**Variables** are used to store and manipulate data. The `=` operator assigns a value, and assigning a new value to a variable **overrides** the old one. Mathematical operations can be performed on variables. Crucially, modifying one variable only affects others if they reference the **same mutable object**.\n",
    "\n",
    "**Strings** are ordered sequences of characters, enclosed in single or double quotes. Key string operations include:\n",
    "* **Indexing**: Accessing individual characters by their position (positive or negative).\n",
    "* **Slicing**: Extracting sub-strings, optionally with a stride value.\n",
    "* **Concatenation**: Joining strings together.\n",
    "* **Replication**: Repeating a string.\n",
    "* **Length**: Finding the number of characters.\n",
    "* Strings are **immutable**, meaning you **cannot change them after creation**. Operations create new strings.\n",
    "* **Escape sequences** (like `\\n` for a new line or `\\t` for a tab) use a backslash `\\` to alter a string's layout.\n",
    "\n",
    "Python also offers many **built-in string methods** to search, modify, and format text data. You can use these methods to change character casing, replace items, find specific elements, and more. Applying a method to a string always returns a **new string** with the changes.\n",
    "\n",
    "---"
   ]
  }
 ],
 "metadata": {
  "language_info": {
   "name": "python"
  }
 },
 "nbformat": 4,
 "nbformat_minor": 5
}
